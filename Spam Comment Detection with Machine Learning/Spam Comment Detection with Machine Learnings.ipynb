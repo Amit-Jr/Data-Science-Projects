{
 "cells": [
  {
   "cell_type": "code",
   "execution_count": 27,
   "id": "31769451",
   "metadata": {},
   "outputs": [],
   "source": [
    "import pandas as pd \n",
    "import numpy as np\n",
    "from sklearn.feature_extraction.text import CountVectorizer\n",
    "from sklearn.model_selection import train_test_split\n",
    "from sklearn.naive_bayes import BernoulliNB\n",
    "import warnings"
   ]
  },
  {
   "cell_type": "code",
   "execution_count": 28,
   "id": "7f9fc197",
   "metadata": {},
   "outputs": [
    {
     "name": "stdout",
     "output_type": "stream",
     "text": [
      "                                      COMMENT_ID         AUTHOR  \\\n",
      "24   LZQPQhLyRh9EXArr4ZnVcDonSbvSMHKYOT24e_qR6fE    ||GuitarZ||   \n",
      "190          z12av324qzztf5tan04ci1kycxbnf3u4f4g    BeatBoxBaaa   \n",
      "9            z12avveb4xqiirsix04chxviiljryduwxg0    BeBe Burkey   \n",
      "320          z124zbcigmbfvhpru04cepdx2vikibhp42c  Yabbamita DBH   \n",
      "267          z12cwnzbunaji14ah04cf3jizmzpz3igxj4          CHILD   \n",
      "\n",
      "                    DATE                                            CONTENT  \\\n",
      "24   2013-12-23T12:54:38                               CHECK OUT MY CHANNEL   \n",
      "190  2014-11-07T09:04:08  Have you tried a new social network TSU? This ...   \n",
      "9    2013-11-28T16:30:13  and u should.d check my channel and tell me wh...   \n",
      "320  2014-11-12T09:30:20  If the shitty Chinese Government didn't block ...   \n",
      "267  2014-11-08T05:46:31  WHY DOES THIS HAVE 2 BILLION VIEWS THIS SONG I...   \n",
      "\n",
      "     CLASS  \n",
      "24       1  \n",
      "190      1  \n",
      "9        1  \n",
      "320      0  \n",
      "267      0  \n"
     ]
    }
   ],
   "source": [
    "data = pd.read_csv('Dataset/archive/Youtube01-Psy.csv')\n",
    "print(data.sample(5))"
   ]
  },
  {
   "cell_type": "code",
   "execution_count": null,
   "id": "74374c8e",
   "metadata": {},
   "outputs": [],
   "source": [
    "data = data[['CONTENT', 'CLASS']]\n",
    "print(data.sample(5))"
   ]
  },
  {
   "cell_type": "code",
   "execution_count": 29,
   "id": "a3e7fa1f",
   "metadata": {},
   "outputs": [
    {
     "name": "stdout",
     "output_type": "stream",
     "text": [
      "                                COMMENT_ID                AUTHOR  \\\n",
      "21   z13ozdmr4lf3uzc5z04cix2zkyjzgvcyemw0k       Carlos Thegamer   \n",
      "133    z13gypjrmumhxromj23jyjhhenvdgpuxh04       HarveyIsTheBoss   \n",
      "189    z132yfjb1q2aupnvp224it3zdlfgebvxy04         Adrian Skalak   \n",
      "15     z13phrmwrkfisn5er22eyrbpbvaiwfvwf04  Gaming and Stuff PRO   \n",
      "192  z13xtdlovm2hzl05d04ccz1pnvqtezdriqc0k        Uroš Slemenjak   \n",
      "\n",
      "                    DATE                                            CONTENT  \\\n",
      "21   2013-12-01T01:20:21                 subscribe to my channel people :D﻿   \n",
      "133  2014-11-05T18:16:55  You gotta say its funny. well not 2 billion wo...   \n",
      "189  2014-11-07T08:19:37  http://www.ermail.pl/dolacz/V3VeYGIN CLICK  ht...   \n",
      "15   2013-11-28T21:14:13  Hello! Do you like gaming, art videos, scienti...   \n",
      "192  2014-11-07T12:08:13  People, here is a new network like FB...you re...   \n",
      "\n",
      "            CLASS  \n",
      "21   Spam Comment  \n",
      "133      Not Spam  \n",
      "189  Spam Comment  \n",
      "15   Spam Comment  \n",
      "192  Spam Comment  \n"
     ]
    }
   ],
   "source": [
    "data['CLASS'] = data['CLASS'].map({0: 'Not Spam',\n",
    "                                  1: 'Spam Comment'})\n",
    "print(data.sample(5))"
   ]
  },
  {
   "cell_type": "code",
   "execution_count": 30,
   "id": "4df580a6",
   "metadata": {},
   "outputs": [
    {
     "name": "stdout",
     "output_type": "stream",
     "text": [
      "0.9857142857142858\n"
     ]
    }
   ],
   "source": [
    "x = np.array(data[\"CONTENT\"])\n",
    "y = np.array(data[\"CLASS\"])\n",
    "\n",
    "cv = CountVectorizer()\n",
    "x = cv.fit_transform(x)\n",
    "xtrain, xtest, ytrain, ytest = train_test_split(x, y, \n",
    "                                                test_size=0.2, \n",
    "                                                random_state=42)\n",
    "model = BernoulliNB()\n",
    "model.fit(xtrain,ytrain)\n",
    "print(model.score(xtest,ytest))"
   ]
  },
  {
   "cell_type": "code",
   "execution_count": 31,
   "id": "d38d6b24",
   "metadata": {},
   "outputs": [
    {
     "name": "stdout",
     "output_type": "stream",
     "text": [
      "['Spam Comment']\n"
     ]
    }
   ],
   "source": [
    "sample = \"Check this out: https://thecleverprogrammer.com/\" \n",
    "data = cv.transform([sample]).toarray()\n",
    "print(model.predict(data))"
   ]
  },
  {
   "cell_type": "code",
   "execution_count": 32,
   "id": "9a9c2ccd",
   "metadata": {},
   "outputs": [
    {
     "name": "stdout",
     "output_type": "stream",
     "text": [
      "['Not Spam']\n"
     ]
    }
   ],
   "source": [
    "sample = \"Lack of information!\" \n",
    "data = cv.transform([sample]).toarray()\n",
    "print(model.predict(data))"
   ]
  },
  {
   "cell_type": "markdown",
   "id": "f4e1a0ff",
   "metadata": {},
   "source": [
    "# Summary"
   ]
  },
  {
   "cell_type": "markdown",
   "id": "11543687",
   "metadata": {},
   "source": [
    "Spam comments detection means classifying comments as spam or not spam. Spam comments on social media platforms are the type of comments posted to redirect the user to another social media account, website or any piece of content. I hope you liked this article on detecting spam comments with Machine Learning. Feel free to ask valuable questions in the comments section below."
   ]
  },
  {
   "cell_type": "code",
   "execution_count": null,
   "id": "f4eed3ac",
   "metadata": {},
   "outputs": [],
   "source": []
  }
 ],
 "metadata": {
  "kernelspec": {
   "display_name": "Python 3 (ipykernel)",
   "language": "python",
   "name": "python3"
  },
  "language_info": {
   "codemirror_mode": {
    "name": "ipython",
    "version": 3
   },
   "file_extension": ".py",
   "mimetype": "text/x-python",
   "name": "python",
   "nbconvert_exporter": "python",
   "pygments_lexer": "ipython3",
   "version": "3.11.5"
  },
  "varInspector": {
   "cols": {
    "lenName": 16,
    "lenType": 16,
    "lenVar": 40
   },
   "kernels_config": {
    "python": {
     "delete_cmd_postfix": "",
     "delete_cmd_prefix": "del ",
     "library": "var_list.py",
     "varRefreshCmd": "print(var_dic_list())"
    },
    "r": {
     "delete_cmd_postfix": ") ",
     "delete_cmd_prefix": "rm(",
     "library": "var_list.r",
     "varRefreshCmd": "cat(var_dic_list()) "
    }
   },
   "types_to_exclude": [
    "module",
    "function",
    "builtin_function_or_method",
    "instance",
    "_Feature"
   ],
   "window_display": false
  }
 },
 "nbformat": 4,
 "nbformat_minor": 5
}
